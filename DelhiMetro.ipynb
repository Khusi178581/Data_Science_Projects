{
 "cells": [
  {
   "cell_type": "code",
   "execution_count": 1,
   "id": "b0c6034a-09a0-431b-82da-ff058feffd13",
   "metadata": {},
   "outputs": [
    {
     "name": "stdout",
     "output_type": "stream",
     "text": [
      "Collecting gtfs-realtime-bindings\n",
      "  Downloading gtfs-realtime-bindings-1.0.0.tar.gz (6.2 kB)\n",
      "  Preparing metadata (setup.py): started\n",
      "  Preparing metadata (setup.py): finished with status 'done'\n",
      "Requirement already satisfied: setuptools in c:\\users\\pc\\anaconda3\\lib\\site-packages (from gtfs-realtime-bindings) (69.5.1)\n",
      "Requirement already satisfied: protobuf in c:\\users\\pc\\anaconda3\\lib\\site-packages (from gtfs-realtime-bindings) (3.20.3)\n",
      "Building wheels for collected packages: gtfs-realtime-bindings\n",
      "  Building wheel for gtfs-realtime-bindings (setup.py): started\n",
      "  Building wheel for gtfs-realtime-bindings (setup.py): finished with status 'done'\n",
      "  Created wheel for gtfs-realtime-bindings: filename=gtfs_realtime_bindings-1.0.0-py3-none-any.whl size=5995 sha256=451e5f22f88260076793c36f65d82424236c71be1d9e35b6f2a36ecb0f3beff6\n",
      "  Stored in directory: c:\\users\\pc\\appdata\\local\\pip\\cache\\wheels\\b6\\43\\38\\17a10a2cdd30cb86acceb42e24e7d2d6bb98b2c59ff8983e20\n",
      "Successfully built gtfs-realtime-bindings\n",
      "Installing collected packages: gtfs-realtime-bindings\n",
      "Successfully installed gtfs-realtime-bindings-1.0.0\n",
      "Collecting folium\n",
      "  Downloading folium-0.20.0-py2.py3-none-any.whl.metadata (4.2 kB)\n",
      "Collecting branca>=0.6.0 (from folium)\n",
      "  Downloading branca-0.8.1-py3-none-any.whl.metadata (1.5 kB)\n",
      "Requirement already satisfied: jinja2>=2.9 in c:\\users\\pc\\anaconda3\\lib\\site-packages (from folium) (3.1.4)\n",
      "Requirement already satisfied: numpy in c:\\users\\pc\\anaconda3\\lib\\site-packages (from folium) (1.26.4)\n",
      "Requirement already satisfied: requests in c:\\users\\pc\\anaconda3\\lib\\site-packages (from folium) (2.32.2)\n",
      "Requirement already satisfied: xyzservices in c:\\users\\pc\\anaconda3\\lib\\site-packages (from folium) (2022.9.0)\n",
      "Requirement already satisfied: MarkupSafe>=2.0 in c:\\users\\pc\\anaconda3\\lib\\site-packages (from jinja2>=2.9->folium) (2.1.3)\n",
      "Requirement already satisfied: charset-normalizer<4,>=2 in c:\\users\\pc\\anaconda3\\lib\\site-packages (from requests->folium) (2.0.4)\n",
      "Requirement already satisfied: idna<4,>=2.5 in c:\\users\\pc\\anaconda3\\lib\\site-packages (from requests->folium) (3.7)\n",
      "Requirement already satisfied: urllib3<3,>=1.21.1 in c:\\users\\pc\\anaconda3\\lib\\site-packages (from requests->folium) (2.2.2)\n",
      "Requirement already satisfied: certifi>=2017.4.17 in c:\\users\\pc\\anaconda3\\lib\\site-packages (from requests->folium) (2024.6.2)\n",
      "Downloading folium-0.20.0-py2.py3-none-any.whl (113 kB)\n",
      "   ---------------------------------------- 0.0/113.4 kB ? eta -:--:--\n",
      "   ---------------------------------------- 0.0/113.4 kB ? eta -:--:--\n",
      "   --- ------------------------------------ 10.2/113.4 kB ? eta -:--:--\n",
      "   -------------- ------------------------ 41.0/113.4 kB 653.6 kB/s eta 0:00:01\n",
      "   ---------------------------------------- 113.4/113.4 kB 1.1 MB/s eta 0:00:00\n",
      "Downloading branca-0.8.1-py3-none-any.whl (26 kB)\n",
      "Installing collected packages: branca, folium\n",
      "Successfully installed branca-0.8.1 folium-0.20.0\n"
     ]
    }
   ],
   "source": [
    "!pip install gtfs-realtime-bindings\n",
    "!pip install folium"
   ]
  },
  {
   "cell_type": "code",
   "execution_count": null,
   "id": "bfb5aab1-4fa0-4e94-9291-756a2d958edf",
   "metadata": {},
   "outputs": [],
   "source": []
  },
  {
   "cell_type": "code",
   "execution_count": 5,
   "id": "6a4a4431-fe17-444b-9a7b-fe28e29ca4f0",
   "metadata": {},
   "outputs": [],
   "source": [
    "import requests\n",
    "from google.transit import  gtfs_realtime_pb2\n",
    "import pandas as pd\n",
    "import folium as fl"
   ]
  },
  {
   "cell_type": "code",
   "execution_count": 6,
   "id": "9f3ec448-19f5-45cc-b127-c82754155061",
   "metadata": {},
   "outputs": [],
   "source": [
    "#step 1-Setup the API\n",
    "API_KEY=\"TpEpdxa1JRvm7E6jl86mZwGqxlg9oqXj\"\n",
    "API_URL=f\"https://otd.delhi.gov.in//api/realtime/VehiclePositions.pb?key=TpEpdxa1JRvm7E6jl86mZwGqxlg9oqXj\""
   ]
  },
  {
   "cell_type": "code",
   "execution_count": 8,
   "id": "2ab31bb8-2037-439b-8f84-20d5803a718f",
   "metadata": {},
   "outputs": [],
   "source": [
    "#step-2-Fetch GTFS-realtime data\n",
    "response=requests.get(API_URL)\n",
    "if response.status_code !=200:\n",
    "    raise Exception(f\"Error! {response.status_code}:{response.text}\")"
   ]
  },
  {
   "cell_type": "code",
   "execution_count": 10,
   "id": "40d6d460-2e60-4379-8d3d-60faae0d6ea1",
   "metadata": {},
   "outputs": [
    {
     "data": {
      "text/plain": [
       "224127"
      ]
     },
     "execution_count": 10,
     "metadata": {},
     "output_type": "execute_result"
    }
   ],
   "source": [
    "#step3-Data Parsing to protobuf\n",
    "feed= gtfs_realtime_pb2.FeedMessage()\n",
    "feed.ParseFromString(response.content)"
   ]
  },
  {
   "cell_type": "code",
   "execution_count": 14,
   "id": "57b7a94e-56f7-4511-a56b-dd4f28bc3b73",
   "metadata": {},
   "outputs": [],
   "source": [
    "#step4- Convert into DataFrame\n",
    "from datetime import datetime \n",
    "data=[]\n",
    "for entity in feed.entity:\n",
    "    if entity.HasField('vehicle'):\n",
    "        vehicle=entity.vehicle\n",
    "    data.append({\n",
    "    \"VehicleID\":vehicle.vehicle.id,\n",
    "    \"TripID\":vehicle.trip.trip_id,\n",
    "    \"RouteID\":vehicle.trip.route_id,\n",
    "    \"Latitude\":vehicle.position.latitude,\n",
    "    \"Longitude\":vehicle.position.longitude,\n",
    "    \"Timestamp\":datetime.fromtimestamp(vehicle.timestamp) if vehicle.timestamp else None    \n",
    "    })\n",
    "    "
   ]
  },
  {
   "cell_type": "code",
   "execution_count": 24,
   "id": "4dd24b70-3112-448d-ac6f-8cc389d93523",
   "metadata": {},
   "outputs": [
    {
     "name": "stdout",
     "output_type": "stream",
     "text": [
      "<class 'pandas.core.frame.DataFrame'>\n",
      "RangeIndex: 2188 entries, 0 to 2187\n",
      "Data columns (total 6 columns):\n",
      " #   Column     Non-Null Count  Dtype         \n",
      "---  ------     --------------  -----         \n",
      " 0   VehicleID  2188 non-null   object        \n",
      " 1   TripID     2188 non-null   object        \n",
      " 2   RouteID    2188 non-null   object        \n",
      " 3   Latitude   2188 non-null   float64       \n",
      " 4   Longitude  2188 non-null   float64       \n",
      " 5   Timestamp  2188 non-null   datetime64[ns]\n",
      "dtypes: datetime64[ns](1), float64(2), object(3)\n",
      "memory usage: 102.7+ KB\n"
     ]
    },
    {
     "data": {
      "text/plain": [
       "'Information of captured data'"
      ]
     },
     "execution_count": 24,
     "metadata": {},
     "output_type": "execute_result"
    }
   ],
   "source": [
    "df=pd.DataFrame(data)\n",
    "dataset.info()\n",
    "\"Information of captured data\""
   ]
  },
  {
   "cell_type": "code",
   "execution_count": 28,
   "id": "b7f3189a-308f-463b-baef-cdd322f7ab8c",
   "metadata": {},
   "outputs": [
    {
     "name": "stdout",
     "output_type": "stream",
     "text": [
      "Map saved soccessfully in the same diractory of code\n"
     ]
    }
   ],
   "source": [
    "#Now let us see how to make map using folium\n",
    "#step5- Map visualisation\n",
    "m=fl.Map(location=[28.65195,77.23149],zoom_start=11) #ye hmne center location bna li hai delhi ki latitude or longitude value le ke\n",
    "for _, row in df.iterrows():\n",
    "    fl.Marker(\n",
    "        location=[row[\"Latitude\"],row[\"Longitude\"]],\n",
    "        popup=f\"Route: {row['RouteID']}<br> Vehicle: {row['VehicleID']}<br>Time:{row['Timestamp']}\",\n",
    "        icon=fl.Icon(color=\"blue\",icon=\"bus\")\n",
    ").add_to(m)\n",
    "m.save(\"Delhi Transport Mapping.html\")\n",
    "print(\"Map saved soccessfully in the same diractory of code\")\n"
   ]
  },
  {
   "cell_type": "code",
   "execution_count": null,
   "id": "500d0692-ccf1-49f9-aa72-ef4efb6438c9",
   "metadata": {},
   "outputs": [],
   "source": []
  }
 ],
 "metadata": {
  "kernelspec": {
   "display_name": "Python 3 (ipykernel)",
   "language": "python",
   "name": "python3"
  },
  "language_info": {
   "codemirror_mode": {
    "name": "ipython",
    "version": 3
   },
   "file_extension": ".py",
   "mimetype": "text/x-python",
   "name": "python",
   "nbconvert_exporter": "python",
   "pygments_lexer": "ipython3",
   "version": "3.12.4"
  }
 },
 "nbformat": 4,
 "nbformat_minor": 5
}
